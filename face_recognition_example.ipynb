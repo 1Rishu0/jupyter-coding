{
 "cells": [
  {
   "cell_type": "code",
   "execution_count": null,
   "metadata": {},
   "outputs": [],
   "source": [
    "import face_recognition\n",
    "from PIL import Image, ImageDraw\n",
    "\n",
    "# Load the image with faces\n",
    "image_path = r\"C:\\Users\\RISHU\\OneDrive\\Desktop\\PythonCoding\\face.jpg\"\n",
    "image = face_recognition_example.load_image_file(image_path)\n",
    "\n",
    "# Find all face locations in the image\n",
    "face_locations = face_recognition_example.face_locations(image)\n",
    "\n",
    "# Load the image into a PIL (Python Imaging Library) object\n",
    "pil_image = Image.fromarray(image)\n",
    "\n",
    "# Create a Draw object to draw rectangles around the faces\n",
    "draw = ImageDraw.Draw(pil_image)\n",
    "\n",
    "# Loop through each face found and draw a rectangle around it\n",
    "for face_location in face_locations:\n",
    "    top, right, bottom, left = face_location\n",
    "    draw.rectangle([left, top, right, bottom], outline=(0, 255, 0), width=2)\n",
    "\n",
    "# Save the modified image with rectangles around faces\n",
    "output_image_path = r\"C:\\Users\\RISHU\\OneDrive\\Desktop\\PythonCoding\"\n",
    "pil_image.save(output_image_path)\n",
    "\n",
    "print(\"Face recognition complete. Check\", output_image_path)\n",
    "\n",
    "\n"
   ]
  }
 ],
 "metadata": {
  "kernelspec": {
   "display_name": "base",
   "language": "python",
   "name": "python3"
  },
  "language_info": {
   "codemirror_mode": {
    "name": "ipython",
    "version": 3
   },
   "file_extension": ".py",
   "mimetype": "text/x-python",
   "name": "python",
   "nbconvert_exporter": "python",
   "pygments_lexer": "ipython3",
   "version": "3.11.6"
  },
  "orig_nbformat": 4
 },
 "nbformat": 4,
 "nbformat_minor": 2
}
