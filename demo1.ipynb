{
 "cells": [
  {
   "cell_type": "code",
   "execution_count": null,
   "metadata": {},
   "outputs": [],
   "source": []
  },
  {
   "cell_type": "code",
   "execution_count": 18,
   "metadata": {},
   "outputs": [],
   "source": [
    "a=int(input(\"enter value :\"))\n",
    "\n",
    "\n",
    "count=0\n",
    "for i in range (-3,3):\n",
    "    for j in range (a,a):\n",
    "        print([j],i)\n",
    "    "
   ]
  },
  {
   "cell_type": "code",
   "execution_count": 3,
   "metadata": {},
   "outputs": [
    {
     "name": "stdout",
     "output_type": "stream",
     "text": [
      "hello\n"
     ]
    }
   ],
   "source": [
    "print(\"hello\")"
   ]
  },
  {
   "cell_type": "code",
   "execution_count": 19,
   "metadata": {},
   "outputs": [
    {
     "name": "stdout",
     "output_type": "stream",
     "text": [
      "     *\n",
      "    ***\n",
      "   *****\n",
      "  *******\n",
      " *********\n"
     ]
    }
   ],
   "source": [
    "for i in range(5):\n",
    "    for j in range(i,5):\n",
    "        print(end=\" \")\n",
    "    for k in range(-1,i):\n",
    "        print(end=\"*\")\n",
    "    for j in range(0,i):\n",
    "        print(end=\"*\")\n",
    "    print()"
   ]
  },
  {
   "cell_type": "code",
   "execution_count": 22,
   "metadata": {},
   "outputs": [
    {
     "name": "stdout",
     "output_type": "stream",
     "text": [
      "hsd\n"
     ]
    }
   ],
   "source": [
    "s=\"msdgahiughahg\"\n",
    "x=slice(2,7,2)\n",
    "print(s[x])"
   ]
  },
  {
   "cell_type": "code",
   "execution_count": 32,
   "metadata": {},
   "outputs": [
    {
     "name": "stdout",
     "output_type": "stream",
     "text": [
      "sum of a and b is 10\n"
     ]
    }
   ],
   "source": [
    "def raj(a,b):\n",
    "    c=a+b\n",
    "    print(f\"sum of a and b is {c}\")\n",
    "\n",
    "a=int(input(\"enter :\"))\n",
    "b=int(input(\"enter :\"))\n",
    "raj(a,b)"
   ]
  },
  {
   "cell_type": "code",
   "execution_count": 27,
   "metadata": {},
   "outputs": [
    {
     "name": "stdout",
     "output_type": "stream",
     "text": [
      "ladka aapka korean hai 21\n"
     ]
    }
   ],
   "source": [
    "def lgqhdtv(age_raghav):\n",
    "    age_raghav=int(input(\"enter age of 'raghav' korean : \"))\n",
    "    if (age_raghav > 18):\n",
    "        print(\"ladka aapka korean hai\",age_raghav)\n",
    "    else:\n",
    "        print(\" hai tumhara ladka\")\n",
    "\n",
    "lgqhdtv(a)\n"
   ]
  },
  {
   "cell_type": "code",
   "execution_count": 33,
   "metadata": {},
   "outputs": [
    {
     "name": "stdout",
     "output_type": "stream",
     "text": [
      "sum of a and b is \n"
     ]
    },
    {
     "data": {
      "text/plain": [
       "10"
      ]
     },
     "execution_count": 33,
     "metadata": {},
     "output_type": "execute_result"
    }
   ],
   "source": [
    "def raj(a,b):\n",
    "    \n",
    "    print(\"sum of a and b is \")\n",
    "    return(a+b)\n",
    "\n",
    "a=int(input(\"enter :\"))\n",
    "b=int(input(\"enter :\"))\n",
    "raj(a,b)"
   ]
  },
  {
   "cell_type": "code",
   "execution_count": 35,
   "metadata": {},
   "outputs": [
    {
     "name": "stdout",
     "output_type": "stream",
     "text": [
      "four five "
     ]
    }
   ],
   "source": [
    "a=int(input(\"Enter a number\"))\n",
    "number_text=[\"zero\",\"one\",\"two\",\"three\",\"four\",\"five\",\"six\",\"seven\",\"eight\",\"nine\"]\n",
    "ans=[]\n",
    "while(a!=-1):\n",
    "    r=a%10\n",
    "    a=a//10\n",
    "    if(a==0):\n",
    "        a=-1\n",
    "    ans.append(number_text[r])\n",
    "\n",
    "for i in range(len(ans)-1,-1,-1):\n",
    "    print(ans[i],end=\" \")\n"
   ]
  },
  {
   "cell_type": "code",
   "execution_count": 36,
   "metadata": {},
   "outputs": [
    {
     "name": "stdout",
     "output_type": "stream",
     "text": [
      "Enter for what type you want to check\n",
      "++++++++++++++++++++++++++++++++++++++\n",
      "equilateral\n",
      "isosceles\n",
      "right angled triangle\n",
      "scalene\n",
      "Invalid input\n"
     ]
    }
   ],
   "source": [
    "class para():\n",
    "    def take(self):\n",
    "        self.s1 = int(input(\"enter side 1:\"))\n",
    "        self.s2 = int(input(\"enter side 2:\"))\n",
    "        self.s3 = int(input(\"enter side 3:\"))\n",
    "\n",
    "class equ(para):\n",
    "    def check(self):\n",
    "        if self.s1 == self.s2 == self.s3:\n",
    "            print(\"Equilateral triangle\")\n",
    "        else:\n",
    "            print(\"not an equilateral triangle\")\n",
    "\n",
    "class iso(para):\n",
    "    def check(self):\n",
    "        if self.s1 == self.s2 or self.s2 == self.s3 or self.s3 == self.s1:\n",
    "            print(\"Isosceles triangle\")\n",
    "        else:\n",
    "            print(\"not an isosceles triangle\")\n",
    "\n",
    "class rat(para):\n",
    "    def check(self):\n",
    "        if (self.s1 ** 2) + (self.s2 ** 2) == (self.s3 ** 2) or \\\n",
    "           (self.s2 ** 2) + (self.s3 ** 2) == (self.s1 ** 2) or \\\n",
    "           (self.s3 ** 2) + (self.s1 ** 2) == (self.s2 ** 2):\n",
    "            print(\"Right-angled triangle\")\n",
    "        else:\n",
    "            print(\"not a right-angled triangle\")\n",
    "\n",
    "class scal(para):\n",
    "    def check(self):\n",
    "        if self.s1 != self.s2 != self.s3:\n",
    "            print(\"Scalene triangle\")\n",
    "        else:\n",
    "            print(\"not a scalene triangle\")\n",
    "\n",
    "E = equ()\n",
    "I = iso()\n",
    "R = rat()\n",
    "S = scal()\n",
    "\n",
    "print(\"Enter for what type you want to check\")\n",
    "print(\"++++++++++++++++++++++++++++++++++++++\")\n",
    "print(\"equilateral\\nisosceles\\nright angled triangle\\nscalene\")\n",
    "\n",
    "user = input().lower()\n",
    "if user == \"equilateral\":\n",
    "    E.take()\n",
    "    E.check()\n",
    "elif user == \"isosceles\":\n",
    "    I.take()\n",
    "    I.check()\n",
    "elif user == \"right angled\" or user == \"right-angled triangle\":\n",
    "    R.take()\n",
    "    R.check()\n",
    "elif user == \"scalene\":\n",
    "    S.take()\n",
    "    S.check()\n",
    "else:\n",
    "    print('Invalid input')\n"
   ]
  },
  {
   "cell_type": "code",
   "execution_count": 1,
   "metadata": {},
   "outputs": [
    {
     "name": "stdout",
     "output_type": "stream",
     "text": [
      "Area of circle 28.26\n",
      "parameter of circle is 18.84\n"
     ]
    }
   ],
   "source": [
    "class circle:\n",
    "   \n",
    "    def area(self,x):\n",
    "        print(f\"Area of circle {3.14*x**2}\")\n",
    "    def parameter(self,x):\n",
    "        print(f\"parameter of circle is {2*3.14*x}\")\n",
    "C=circle()\n",
    "C.area(3)\n",
    "C.parameter(3)"
   ]
  },
  {
   "cell_type": "code",
   "execution_count": 16,
   "metadata": {},
   "outputs": [
    {
     "name": "stdout",
     "output_type": "stream",
     "text": [
      "my name is rishabh \n"
     ]
    }
   ],
   "source": [
    "class person:\n",
    "    def __init__(yes,name,age,DOB):\n",
    "        yes.naam=name\n",
    "        yes.age=age\n",
    "        yes.DOB=DOB\n",
    "        print(f\"my name is {name} \")\n",
    "\n",
    "p=person(\"rishabh\",19,2003)\n",
    "\n"
   ]
  },
  {
   "cell_type": "code",
   "execution_count": 3,
   "metadata": {},
   "outputs": [
    {
     "name": "stdout",
     "output_type": "stream",
     "text": [
      "Total price: ₹150.55\n"
     ]
    }
   ],
   "source": [
    "class ShoppingCart:\n",
    "    def __init__(self):\n",
    "        self.items = {}  # A dictionary to store items and their quantities\n",
    "\n",
    "    def add_item(self, item_name, price, quantity=1):\n",
    "        if item_name in self.items:\n",
    "            self.items[item_name] += quantity\n",
    "        else:\n",
    "            self.items[item_name] = quantity\n",
    "\n",
    "    def remove_item(self, item_name, quantity=1):\n",
    "        if item_name in self.items:\n",
    "            if self.items[item_name] <= quantity:\n",
    "                del self.items[item_name]\n",
    "            else:\n",
    "                self.items[item_name] -= quantity\n",
    "\n",
    "    def calculate_total(self):\n",
    "        total = 0\n",
    "        for item_name, quantity in self.items.items():\n",
    "            # Assuming the price is fixed for each item\n",
    "            # You can modify this logic if prices vary for each item\n",
    "            price_per_item = self.get_item_price(item_name)\n",
    "            total += price_per_item * quantity\n",
    "        return total\n",
    "\n",
    "    # This method can be implemented based on your data source for item prices\n",
    "    def get_item_price(self, item_name):\n",
    "        # For the sake of this example, let's assume fixed prices for each item\n",
    "        item_prices = {\n",
    "            'apple': 50.20,\n",
    "            'banana': 30,\n",
    "            'orange': 40.35,\n",
    "            # Add more items and prices as needed\n",
    "        }\n",
    "        return item_prices.get(item_name, 0)  # Default to 0 if item not found\n",
    "\n",
    "# Example usage\n",
    "cart = ShoppingCart()\n",
    "cart.add_item('apple', 50.20, 3)\n",
    "cart.add_item('banana', 30, 2)\n",
    "cart.add_item('orange', 40.35)\n",
    "cart.remove_item('apple', 2)\n",
    "\n",
    "total_price = cart.calculate_total()\n",
    "print(f\"Total price: ₹{total_price:.2f}\")\n"
   ]
  },
  {
   "cell_type": "code",
   "execution_count": null,
   "metadata": {},
   "outputs": [],
   "source": [
    "import math\n",
    "\n",
    "class numbers:\n",
    "    a = int(input(\"enter the number : \"))\n",
    "    b = int(input(\"enter the number : \"))\n",
    "\n",
    "class calculator(numbers):\n",
    "    def add(self):\n",
    "        return numbers.a+numbers.b\n",
    "    def sub(self):\n",
    "        return numbers.a-numbers.b\n",
    "    def mult(self):\n",
    "        return numbers.a*numbers.b\n",
    "    def div(self):\n",
    "        return numbers.a/numbers.b\n",
    "    def Log(self):\n",
    "        return math.log(numbers.a),math.log(numbers.b)\n",
    "    def fact(self):\n",
    "        return math.factorial(numbers.a),math.factorial(numbers.b)\n",
    "    def cos(self):\n",
    "        return math.cos(numbers.a),math.cos(numbers.b)\n",
    "    def sin(self):\n",
    "        return math.sin(numbers.a),math.sin(numbers.b)\n",
    "d = calculator()   \n",
    "ch = input(\"enter the operation : \").lower()\n",
    "if ch == \"add\":\n",
    "    print(d.add())\n",
    "elif ch == \"sub\":\n",
    "    print(d.Log())\n",
    "elif ch == \"mult\":\n",
    "    print(d.mult())\n",
    "elif ch == \"div\":\n",
    "    print (d.div())\n",
    "elif ch == \"log\":\n",
    "    print (d.Log())\n",
    "elif ch == \"fact\":\n",
    "    print (d.fact())\n",
    "elif ch == \"sin\":\n",
    "    print(d.sin())\n",
    "elif ch == \"cos\":\n",
    "    print(d.cos())"
   ]
  },
  {
   "cell_type": "code",
   "execution_count": null,
   "metadata": {},
   "outputs": [],
   "source": [
    "class sides:\n",
    "    def radius(self):\n",
    "        self.Radius = int(input(\"enter the radius : \"))\n",
    "    def length(self):    \n",
    "        self.length = int(input(\"enter the length : \"))\n",
    "    def breath(self):\n",
    "        self.breath = int(input(\"enter the breath : \"))\n",
    "    def height(self):\n",
    "        self.height = int(input(\"enter the height : \"))\n",
    "    def base (self):\n",
    "        self.base = int(input(\"enter the base : \"))\n",
    "    def tri_sides(self):\n",
    "        self.d = int(input(\"enter the side : \"))\n",
    "        self.e = int(input(\"enter the side : \"))\n",
    "        self.g = int(input(\"enter the side : \"))\n",
    "        \n",
    "class calculation(sides):\n",
    "    def cir_cal(self):\n",
    "        a = 3.14*(self.Radius**2)\n",
    "        c = 2*3.14*self.Radius\n",
    "        return a,c\n",
    "    def squ_cal(self):\n",
    "        a = self.length*self.breath\n",
    "        p = 4*self.length\n",
    "        return a,p\n",
    "    def rec_cal(self):    \n",
    "        a = self.length*self.breath\n",
    "        p = 2*(self.length+self.breath)\n",
    "        return a,p\n",
    "    def tri_cal(self):\n",
    "        a = 1/2*(self.base*self.height)\n",
    "        p = self.d+self.e+self.g\n",
    "        return a,p\n",
    "\n",
    "class shape(calculation,sides):\n",
    "        \n",
    "    def circle(self):\n",
    "        print (\"it's a circle\")\n",
    "        Radius = self.radius()\n",
    "        print (self.cir_cal())\n",
    "    def square(self):\n",
    "        print (\"it's a square\")\n",
    "        length = self.length()\n",
    "        breath = self.breath()\n",
    "        print (self.squ_cal())\n",
    "    def rectangle(self):\n",
    "        print (\"it's a rectangle\")\n",
    "        length = self.length()\n",
    "        breath = self.breath()\n",
    "        print (self.rec_cal())\n",
    "    def triangle(self):\n",
    "        print (\"it's a triangle\")    \n",
    "        height = self.height()\n",
    "        base = self.base()\n",
    "        sidesss= self.tri_sides()\n",
    "        print (self.tri_cal())\n",
    "        \n",
    "f = input(\"Enter the shape : \").lower()\n",
    "check = shape()\n",
    "print(f)\n",
    "if f==\"circle\":\n",
    "    check.circle()\n",
    "elif f == \"square\":\n",
    "    check.square()\n",
    "elif f == \"rectangle\":\n",
    "    check.rectangle()\n",
    "elif f == \"triangle\":\n",
    "    check.triangle()\n",
    "       "
   ]
  },
  {
   "cell_type": "code",
   "execution_count": null,
   "metadata": {},
   "outputs": [],
   "source": [
    "class animals:\n",
    "    def tail():\n",
    "        print (\"animals have tail \")\n",
    "    def leg(self):\n",
    "        print (\"animals have leg \")\n",
    "class cat(animals):\n",
    "    def meow():\n",
    "        print (\"mewwwwww!\")\n",
    "class dog(cat):\n",
    "    def bhow(self):\n",
    "        print (\"bhowwwww!\")\n",
    "\"\"\"\n",
    "\n",
    "a = dog() \n",
    "a.bhow()\n",
    "b = cat()\n",
    "b.leg()\n",
    "\"\"\""
   ]
  },
  {
   "cell_type": "code",
   "execution_count": null,
   "metadata": {},
   "outputs": [],
   "source": [
    "for i in range(1,9) :\n",
    "    print (str(i)*i)"
   ]
  },
  {
   "cell_type": "code",
   "execution_count": null,
   "metadata": {},
   "outputs": [],
   "source": [
    "def mult():\n",
    "    a = int(input(\"enter the no. \"))\n",
    "    for i in range (1,11):\n",
    "        print (a,\"x\",i,\"=\",a*i)\n",
    "mult()        "
   ]
  },
  {
   "cell_type": "code",
   "execution_count": 1,
   "metadata": {},
   "outputs": [
    {
     "name": "stdout",
     "output_type": "stream",
     "text": [
      "10\n"
     ]
    }
   ],
   "source": [
    "str='programmer'\n",
    "print(len(str))"
   ]
  },
  {
   "cell_type": "code",
   "execution_count": 2,
   "metadata": {},
   "outputs": [
    {
     "name": "stdout",
     "output_type": "stream",
     "text": [
      "We are \"VIKINGS\" of the north.\n"
     ]
    }
   ],
   "source": [
    "print(\"We are \\\"VIKINGS\\\" of the north.\")\n"
   ]
  },
  {
   "cell_type": "code",
   "execution_count": 3,
   "metadata": {},
   "outputs": [
    {
     "name": "stdout",
     "output_type": "stream",
     "text": [
      "Modified names:\n",
      "Raju\n",
      "Shrivastav\n"
     ]
    }
   ],
   "source": [
    "def capitalize_first_letter(name):\n",
    "    return name.capitalize()\n",
    "\n",
    "# Get input from the user and split into a list of names\n",
    "name_input = input(\"Enter a list of names separated by spaces: \")\n",
    "names = name_input.split()\n",
    "\n",
    "# Capitalize the first letter of each name\n",
    "capitalized_names = [capitalize_first_letter(name) for name in names]\n",
    "\n",
    "# Print the modified names\n",
    "print(\"Modified names:\")\n",
    "for name in capitalized_names:\n",
    "    print(name)\n"
   ]
  }
 ],
 "metadata": {
  "kernelspec": {
   "display_name": "base",
   "language": "python",
   "name": "python3"
  },
  "language_info": {
   "codemirror_mode": {
    "name": "ipython",
    "version": 3
   },
   "file_extension": ".py",
   "mimetype": "text/x-python",
   "name": "python",
   "nbconvert_exporter": "python",
   "pygments_lexer": "ipython3",
   "version": "3.9.13"
  },
  "orig_nbformat": 4
 },
 "nbformat": 4,
 "nbformat_minor": 2
}
