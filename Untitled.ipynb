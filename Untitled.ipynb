{
 "cells": [
  {
   "cell_type": "code",
   "execution_count": 2,
   "id": "9be98f30",
   "metadata": {},
   "outputs": [
    {
     "name": "stdout",
     "output_type": "stream",
     "text": [
      "0 -3\n",
      "1 -2\n",
      "2 -1\n",
      "3 0\n",
      "4 1\n",
      "5 2\n"
     ]
    }
   ],
   "source": [
    "for idx,i in enumerate(range (-3,3)):\n",
    "                   print (idx,i)\n",
    "                       "
   ]
  },
  {
   "cell_type": "code",
   "execution_count": 6,
   "id": "2f9d6a1d",
   "metadata": {},
   "outputs": [
    {
     "name": "stdout",
     "output_type": "stream",
     "text": [
      "0 -3\n",
      "1 -2\n",
      "2 -1\n",
      "3 0\n",
      "4 1\n",
      "5 2\n"
     ]
    }
   ],
   "source": [
    "a = 0\n",
    "for j in range (-3,3):\n",
    "    print (a,j)\n",
    "    a+=1\n",
    "    "
   ]
  },
  {
   "cell_type": "code",
   "execution_count": 9,
   "id": "3a74fc83",
   "metadata": {},
   "outputs": [
    {
     "name": "stdout",
     "output_type": "stream",
     "text": [
      "*\n",
      "**\n",
      "***\n",
      "****\n",
      "*****\n"
     ]
    }
   ],
   "source": [
    "\n",
    "for i in range (5):\n",
    "    for j in range (i+1):\n",
    "        print (end = \"*\")\n",
    "    print()    "
   ]
  },
  {
   "cell_type": "code",
   "execution_count": 17,
   "id": "ab7f9cc0",
   "metadata": {
    "collapsed": true
   },
   "outputs": [
    {
     "name": "stdout",
     "output_type": "stream",
     "text": [
      "* \n",
      "\n",
      "** \n",
      "\n",
      " \n",
      "\n",
      "*** \n",
      "\n",
      " \n",
      "\n",
      " \n",
      "\n",
      "**** \n",
      "\n",
      " \n",
      "\n",
      " \n",
      "\n",
      " \n",
      "\n",
      "*****"
     ]
    }
   ],
   "source": [
    "for i in range (5):\n",
    "    for k in range (i):\n",
    "        print(end= \" \")\n",
    "    for j in range (i+1):\n",
    "        print (end = \"*\")\n",
    "   \n",
    "        "
   ]
  },
  {
   "cell_type": "code",
   "execution_count": 28,
   "id": "2c408d5c",
   "metadata": {},
   "outputs": [
    {
     "name": "stdout",
     "output_type": "stream",
     "text": [
      "low\n"
     ]
    }
   ],
   "source": [
    "s = \"hello world\"\n",
    "y = slice(2,7,2)\n",
    "print(s[y])"
   ]
  },
  {
   "cell_type": "code",
   "execution_count": 30,
   "id": "3be9203b",
   "metadata": {},
   "outputs": [
    {
     "name": "stdout",
     "output_type": "stream",
     "text": [
      "beau hello world tiful\n"
     ]
    }
   ],
   "source": [
    "print(f\"beau {s} tiful\")"
   ]
  },
  {
   "cell_type": "code",
   "execution_count": 33,
   "id": "24dcad13",
   "metadata": {},
   "outputs": [
    {
     "name": "stdout",
     "output_type": "stream",
     "text": [
      "9\n",
      "-6\n"
     ]
    }
   ],
   "source": [
    "def addnum(a,b):\n",
    "    c = a+b\n",
    "    return c\n",
    "print (addnum(1,8))\n",
    "def subnum(a,b):\n",
    "    c = a-b\n",
    "    return c\n",
    "print (subnum(2,8))"
   ]
  },
  {
   "cell_type": "code",
   "execution_count": 37,
   "id": "618caa98",
   "metadata": {},
   "outputs": [
    {
     "name": "stdout",
     "output_type": "stream",
     "text": [
      "enter your age : 18\n",
      "Eligible\n"
     ]
    }
   ],
   "source": [
    "a = int(input (\"enter your age : \"))\n",
    "def eligibility():\n",
    "    if a >=18:\n",
    "        print (\"Eligible\")\n",
    "    else :\n",
    "        print (\"not eligible\")\n",
    "eligibility()        "
   ]
  },
  {
   "cell_type": "code",
   "execution_count": 9,
   "id": "5588d04f",
   "metadata": {},
   "outputs": [
    {
     "name": "stdout",
     "output_type": "stream",
     "text": [
      "bhowwwww!\n",
      "animals have leg \n"
     ]
    }
   ],
   "source": [
    "class animals:\n",
    "    def tail():\n",
    "        print (\"animals have tail \")\n",
    "    def leg(self):\n",
    "        print (\"animals have leg \")\n",
    "class cat(animals):\n",
    "    def meow():\n",
    "        print (\"mewwwwww!\")\n",
    "class dog(cat):\n",
    "    def bhow(self):\n",
    "        print (\"bhowwwww!\")\n",
    "\"\"\"\n",
    "\n",
    "a = dog() \n",
    "a.bhow()\n",
    "b = cat()\n",
    "b.leg()\n",
    "\"\"\""
   ]
  },
  {
   "cell_type": "code",
   "execution_count": 17,
   "id": "048e898f",
   "metadata": {},
   "outputs": [
    {
     "name": "stdout",
     "output_type": "stream",
     "text": [
      "enter the no.2\n",
      "enter the no.4\n",
      "-2\n",
      "0.5\n"
     ]
    }
   ],
   "source": [
    "class maths:\n",
    "    a = int(input(\"enter the no.\"))\n",
    "    b = int(input(\"enter the no.\"))\n",
    "    \n",
    "class operations(maths):\n",
    "    def sub(self):\n",
    "        c = maths.a-maths.b\n",
    "        return c\n",
    "    \n",
    "    def mult(self):\n",
    "        c = maths.a*maths.b\n",
    "        return c\n",
    "    \n",
    "    def div(self):\n",
    "        c = maths.a/maths.b\n",
    "        return c\n",
    "    \n",
    "    def add(self):\n",
    "        c = maths.a + maths.b\n",
    "        return c\n",
    "d = operations()    \n",
    "print (d.sub())\n",
    "print (d.div())\n",
    "        "
   ]
  },
  {
   "cell_type": "code",
   "execution_count": 22,
   "id": "dfa9aa7c",
   "metadata": {},
   "outputs": [
    {
     "name": "stdout",
     "output_type": "stream",
     "text": [
      "1\n",
      "22\n",
      "333\n",
      "4444\n",
      "55555\n",
      "666666\n",
      "7777777\n",
      "88888888\n"
     ]
    }
   ],
   "source": [
    "\n",
    "for i in range(1,9) :\n",
    "    print (str(i)*i)\n",
    "    "
   ]
  },
  {
   "cell_type": "code",
   "execution_count": 23,
   "id": "888ef6a8",
   "metadata": {},
   "outputs": [
    {
     "name": "stdout",
     "output_type": "stream",
     "text": [
      "enter the no. 2\n",
      "2 x 1 = 2\n",
      "2 x 2 = 4\n",
      "2 x 3 = 6\n",
      "2 x 4 = 8\n",
      "2 x 5 = 10\n",
      "2 x 6 = 12\n",
      "2 x 7 = 14\n",
      "2 x 8 = 16\n",
      "2 x 9 = 18\n",
      "2 x 10 = 20\n"
     ]
    }
   ],
   "source": [
    "def mult():\n",
    "    a = int(input(\"enter the no. \"))\n",
    "    for i in range (1,11):\n",
    "        print (a,\"x\",i,\"=\",a*i)\n",
    "mult()        "
   ]
  },
  {
   "cell_type": "code",
   "execution_count": 33,
   "id": "06969abf",
   "metadata": {},
   "outputs": [
    {
     "name": "stdout",
     "output_type": "stream",
     "text": [
      "0\n",
      "1\n",
      "2\n",
      "3\n",
      "4\n",
      "6\n",
      "7\n",
      "9\n"
     ]
    }
   ],
   "source": [
    "i = 0\n",
    "while i < 10 :\n",
    "    if (i != 5 and i !=8):\n",
    "        \n",
    "        print(i)\n",
    "    \n",
    "    i+=1\n",
    "        "
   ]
  },
  {
   "cell_type": "code",
   "execution_count": 38,
   "id": "9e72746f",
   "metadata": {},
   "outputs": [
    {
     "name": "stdout",
     "output_type": "stream",
     "text": [
      "Enter the shape : triangle\n",
      "triangle\n",
      "it's a triangle\n",
      "enter the height : 5\n",
      "enter the base : 4\n",
      "enter the side : 3\n",
      "enter the side : 2\n",
      "enter the side : 1\n",
      "(10.0, 6)\n"
     ]
    }
   ],
   "source": [
    "class sides:\n",
    "    def radius(self):\n",
    "        self.Radius = int(input(\"enter the radius : \"))\n",
    "    def length(self):    \n",
    "        self.length = int(input(\"enter the length : \"))\n",
    "    def breath(self):\n",
    "        self.breath = int(input(\"enter the breath : \"))\n",
    "    def height(self):\n",
    "        self.height = int(input(\"enter the height : \"))\n",
    "    def base (self):\n",
    "        self.base = int(input(\"enter the base : \"))\n",
    "    def tri_sides(self):\n",
    "        self.d = int(input(\"enter the side : \"))\n",
    "        self.e = int(input(\"enter the side : \"))\n",
    "        self.g = int(input(\"enter the side : \"))\n",
    "        \n",
    "class calculation(sides):\n",
    "    def cir_cal(self):\n",
    "        a = 3.14*(self.Radius**2)\n",
    "        c = 2*3.14*self.Radius\n",
    "        return a,c\n",
    "    def squ_cal(self):\n",
    "        a = self.length*self.breath\n",
    "        p = 4*self.length\n",
    "        return a,p\n",
    "    def rec_cal(self):    \n",
    "        a = self.length*self.breath\n",
    "        p = 2*(self.length+self.breath)\n",
    "        return a,p\n",
    "    def tri_cal(self):\n",
    "        a = 1/2*(self.base*self.height)\n",
    "        p = self.d+self.e+self.g\n",
    "        return a,p\n",
    "\n",
    "class shape(calculation,sides):\n",
    "        \n",
    "    def circle(self):\n",
    "        print (\"it's a circle\")\n",
    "        Radius = self.radius()\n",
    "        print (self.cir_cal())\n",
    "    def square(self):\n",
    "        print (\"it's a square\")\n",
    "        length = self.length()\n",
    "        breath = self.breath()\n",
    "        print (self.squ_cal())\n",
    "    def rectangle(self):\n",
    "        print (\"it's a rectangle\")\n",
    "        length = self.length()\n",
    "        breath = self.breath()\n",
    "        print (self.rec_cal())\n",
    "    def triangle(self):\n",
    "        print (\"it's a triangle\")    \n",
    "        height = self.height()\n",
    "        base = self.base()\n",
    "        sidesss= self.tri_sides()\n",
    "        print (self.tri_cal())\n",
    "        \n",
    "f = input(\"Enter the shape : \").lower()\n",
    "check = shape()\n",
    "print(f)\n",
    "if f==\"circle\":\n",
    "    check.circle()\n",
    "elif f == \"square\":\n",
    "    check.square()\n",
    "elif f == \"rectangle\":\n",
    "    check.rectangle()\n",
    "elif f == \"triangle\":\n",
    "    check.triangle()\n",
    "       "
   ]
  },
  {
   "cell_type": "code",
   "execution_count": 39,
   "id": "8837326a",
   "metadata": {},
   "outputs": [
    {
     "name": "stdout",
     "output_type": "stream",
     "text": [
      "enter no  :  367\n",
      "['seven', 'six', 'three']\n",
      "three six seven "
     ]
    }
   ],
   "source": [
    "a= int(input(\"enter no  :  \"))\n",
    "list_name = [\"zero\",\"one\",\"two\",\"three\",\"four\",\"five\",\"six\",\"seven\",\"eight\",\"nine\"]\n",
    "lst = []\n",
    "while a != -1 :\n",
    "    r = a%10\n",
    "    a=a//10\n",
    "    if a == 0:\n",
    "        a = -1\n",
    "    \n",
    "    lst.append(list_name[r])\n",
    "print(lst)\n",
    "for i in range(-1,-(len(lst)+1),-1):\n",
    "    print(lst[i],end = \" \")"
   ]
  },
  {
   "cell_type": "code",
   "execution_count": 29,
   "id": "58c43dfe",
   "metadata": {},
   "outputs": [
    {
     "name": "stdout",
     "output_type": "stream",
     "text": [
      "enter : 2,3,4\n",
      "(2, 3, 4)\n"
     ]
    }
   ],
   "source": [
    "f = eval(input(\"enter : \"))\n",
    "print (f)"
   ]
  },
  {
   "cell_type": "raw",
   "id": "4d8a1de5",
   "metadata": {},
   "source": []
  }
 ],
 "metadata": {
  "kernelspec": {
   "display_name": "Python 3 (ipykernel)",
   "language": "python",
   "name": "python3"
  },
  "language_info": {
   "codemirror_mode": {
    "name": "ipython",
    "version": 3
   },
   "file_extension": ".py",
   "mimetype": "text/x-python",
   "name": "python",
   "nbconvert_exporter": "python",
   "pygments_lexer": "ipython3",
   "version": "3.11.3"
  }
 },
 "nbformat": 4,
 "nbformat_minor": 5
}
